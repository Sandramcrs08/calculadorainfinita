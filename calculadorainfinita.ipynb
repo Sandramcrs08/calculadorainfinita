{
  "nbformat": 4,
  "nbformat_minor": 0,
  "metadata": {
    "colab": {
      "provenance": [],
      "authorship_tag": "ABX9TyNk+FJp2LlcATqsKWeiUQux",
      "include_colab_link": true
    },
    "kernelspec": {
      "name": "python3",
      "display_name": "Python 3"
    },
    "language_info": {
      "name": "python"
    }
  },
  "cells": [
    {
      "cell_type": "markdown",
      "metadata": {
        "id": "view-in-github",
        "colab_type": "text"
      },
      "source": [
        "<a href=\"https://colab.research.google.com/github/Sandramcrs08/calculadorainfinita/blob/main/calculadorainfinita.ipynb\" target=\"_parent\"><img src=\"https://colab.research.google.com/assets/colab-badge.svg\" alt=\"Open In Colab\"/></a>"
      ]
    },
    {
      "cell_type": "code",
      "source": [],
      "metadata": {
        "id": "nnhGlF8owl1c"
      },
      "execution_count": null,
      "outputs": []
    },
    {
      "cell_type": "code",
      "source": [
        "def calculadora(): #Esta função define o loop principal da calculadora.\n",
        "    while True:\n",
        "        print(\"Selecione a operação:\")\n",
        "        print(\"1: Soma\")\n",
        "        print(\"2: Subtração\")\n",
        "        print(\"3: Multiplicação\")\n",
        "        print(\"4: Divisão\")\n",
        "        print(\"0: Sair\")\n",
        "\n",
        "        #Ela mostra o menu de opções e pede para o usuário escolher uma operação.\n",
        "\n",
        "        escolha = input(\"Digite o número para a operação correspondente: \")\n",
        "\n",
        "        #Com base na escolha do usuário, ela executa a operação selecionada ou sai do programa.\n",
        "\n",
        "        if escolha == '0':\n",
        "            print(\"Saindo da calculadora.\")\n",
        "            break\n",
        "        elif escolha in ('1', '2', '3', '4'):\n",
        "            num1 = float(input(\"Digite o primeiro valor: \"))\n",
        "            num2 = float(input(\"Digite o segundo valor: \"))\n",
        "\n",
        "            if escolha == '1':\n",
        "                resultado = soma(num1, num2)\n",
        "            elif escolha == '2':\n",
        "                resultado = subtracao(num1, num2)\n",
        "            elif escolha == '3':\n",
        "                resultado = multiplicacao(num1, num2)\n",
        "            elif escolha == '4':\n",
        "                resultado = divisao(num1, num2)\n",
        "\n",
        "            print(\"Resultado:\", resultado)\n",
        "            print()  # Imprima uma linha vazia para separação visual.\n",
        "\n",
        "\n",
        "        else:\n",
        "            print(\"Essa opção não existe. Tente novamente.\")\n",
        "\n",
        "            #Se uma opção inválida é inserida, ela mostra uma mensagem de erro.\n",
        "\n",
        "\n",
        "def soma(a, b):\n",
        "    return a + b\n",
        "\n",
        "    #Esta função realiza a soma de dois números a e b.\n",
        "    #Ela retorna a soma dos dois números.\n",
        "\n",
        "\n",
        "def subtracao(a, b):\n",
        "    return a - b\n",
        "\n",
        "    #Esta função realiza a subtração de dois números a e b.\n",
        "    #Ela retorna a diferença entre os dois números.\n",
        "\n",
        "\n",
        "def multiplicacao(a, b):\n",
        "    return a * b\n",
        "\n",
        "    #Esta função realiza a multiplicação de dois números a e b.\n",
        "    #Ela retorna o produto dos dois números.\n",
        "\n",
        "\n",
        "def divisao(a, b):\n",
        "    if b == 0:\n",
        "        return \"Erro: divisão por zero\"\n",
        "    return a / b\n",
        "\n",
        "    #Esta função realiza a divisão de dois números a e b.\n",
        "    #Ela verifica se o divisor b é zero. Se for, ela retorna uma mensagem de erro.\n",
        "    #Caso contrário, ela retorna o quociente dos dois números.\n",
        "\n",
        "\n",
        "calculadora()"
      ],
      "metadata": {
        "colab": {
          "base_uri": "https://localhost:8080/"
        },
        "id": "v-9rkYRNwmHE",
        "outputId": "4884ccfc-ff47-4fbe-ede1-652456086b03"
      },
      "execution_count": null,
      "outputs": [
        {
          "metadata": {
            "tags": null
          },
          "name": "stdout",
          "output_type": "stream",
          "text": [
            "Selecione a operação:\n",
            "1: Soma\n",
            "2: Subtração\n",
            "3: Multiplicação\n",
            "4: Divisão\n",
            "0: Sair\n",
            "Resultado: 50.0\n",
            "\n",
            "Selecione a operação:\n",
            "1: Soma\n",
            "2: Subtração\n",
            "3: Multiplicação\n",
            "4: Divisão\n",
            "0: Sair\n",
            "Resultado: 30.0\n",
            "\n",
            "Selecione a operação:\n",
            "1: Soma\n",
            "2: Subtração\n",
            "3: Multiplicação\n",
            "4: Divisão\n",
            "0: Sair\n",
            "Essa opção não existe. Tente novamente.\n",
            "Selecione a operação:\n",
            "1: Soma\n",
            "2: Subtração\n",
            "3: Multiplicação\n",
            "4: Divisão\n",
            "0: Sair\n"
          ]
        }
      ]
    }
  ]
}